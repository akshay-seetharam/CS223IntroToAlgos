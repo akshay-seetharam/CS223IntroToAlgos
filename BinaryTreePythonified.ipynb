{
 "cells": [
  {
   "cell_type": "code",
   "execution_count": null,
   "outputs": [],
   "source": [
    "class Node:\n",
    "    def __init__(self, val):\n",
    "        self.val = val\n",
    "        self.left = None\n",
    "        self.right = None\n",
    "        \n",
    "    def __str__(self):\n",
    "        return f'Node with value {self.__VAL}'\n",
    "    \n",
    "    def add_connection(self, new_node):\n",
    "        if new_node.val > self.val:\n",
    "            right = new_node\n",
    "        else:\n",
    "            left = new_node\n",
    "\n",
    "class BinaryTree:\n",
    "    def __init__(self, array, name):\n",
    "        self.root = Node(array[0])\n",
    "        array.sort()\n",
    "        for i in array:\n",
    "            self.insert(Node(i), self.root)\n",
    "        self.name = name\n",
    "            \n",
    "    def __str__(self):\n",
    "        return f'I am {self.name} and I speak for BinaryTree.'\n",
    "    \n",
    "    def insert(self, nn, cn): # nn = new node, cn = current node\n",
    "        if (cn.right is None and cn.left is None) or (cn.right is None and nn.val > cn.val) or (cn.left is None and nn.val <= cn.val):\n",
    "            cn.add_connection(nn)\n",
    "        elif nn.val > cn.val:\n",
    "            self.insert(nn, cn.right)\n",
    "        elif nn.val <= cn.val:\n",
    "            self.insert(nn, cn.left)\n",
    "        else:\n",
    "            raise Exception(\"Something's wrong\")"
   ],
   "metadata": {
    "collapsed": false,
    "pycharm": {
     "name": "#%%\n"
    }
   }
  },
  {
   "cell_type": "code",
   "execution_count": null,
   "outputs": [],
   "source": [
    "a = [3, 8, 4, 7, 2, 9, 3, 8]\n",
    "lorax = BinaryTree(a, \"the Lorax\")\n",
    "print(lorax)"
   ],
   "metadata": {
    "collapsed": false,
    "pycharm": {
     "name": "#%%\n"
    }
   }
  },
  {
   "cell_type": "code",
   "execution_count": 10,
   "id": "d1abbbe3",
   "metadata": {},
   "outputs": [
    {
     "name": "stdout",
     "output_type": "stream",
     "text": [
      "I am the Lorax and I speak for the class BinaryTree.\n"
     ]
    }
   ],
   "source": [
    "a = [3, 8, 4, 7, 2, 9, 3, 8]\n",
    "lorax = BinaryTree(a, \"the Lorax\")\n",
    "print(lorax)"
   ]
  }
 ],
 "metadata": {
  "kernelspec": {
   "display_name": "Python 3 (ipykernel)",
   "language": "python",
   "name": "python3"
  },
  "language_info": {
   "codemirror_mode": {
    "name": "ipython",
    "version": 3
   },
   "file_extension": ".py",
   "mimetype": "text/x-python",
   "name": "python",
   "nbconvert_exporter": "python",
   "pygments_lexer": "ipython3",
   "version": "3.9.12"
  }
 },
 "nbformat": 4,
 "nbformat_minor": 5
}
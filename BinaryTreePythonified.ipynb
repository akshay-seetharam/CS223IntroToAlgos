{
 "cells": [
  {
   "cell_type": "code",
   "execution_count": null,
   "id": "ceb579be",
   "metadata": {},
   "outputs": [],
   "source": [
    "class Node:\n",
    "    def __init__(self, val):\n",
    "        self.__VAL = val\n",
    "        self.left = None\n",
    "        self.right = None\n",
    "        \n",
    "    def __str__(self):\n",
    "        return f'Node with value {self.__VAL}'\n",
    "    \n",
    "    def add_connection(new_node):\n",
    "        if new_node.__VAL > self.__VAL:\n",
    "            right = new_node\n",
    "        else:\n",
    "            left = new_node\n",
    "\n",
    "class BinaryTree:\n",
    "    def __init__(self, array):\n",
    "        self.root = array[0]\n",
    "        ordered = array.sort()\n",
    "        for i in ordered:\n",
    "            self.insert(Node(i), self.root)\n",
    "        "
   ]
  }
 ],
 "metadata": {
  "kernelspec": {
   "display_name": "Python 3 (ipykernel)",
   "language": "python",
   "name": "python3"
  },
  "language_info": {
   "codemirror_mode": {
    "name": "ipython",
    "version": 3
   },
   "file_extension": ".py",
   "mimetype": "text/x-python",
   "name": "python",
   "nbconvert_exporter": "python",
   "pygments_lexer": "ipython3",
   "version": "3.9.12"
  }
 },
 "nbformat": 4,
 "nbformat_minor": 5
}
